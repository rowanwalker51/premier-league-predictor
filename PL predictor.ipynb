{
 "cells": [
  {
   "cell_type": "code",
   "execution_count": 1,
   "id": "85e68b97-d053-413c-b15c-162c91e7ca5c",
   "metadata": {},
   "outputs": [],
   "source": [
    "import pandas as pd\n",
    "import numpy as np\n",
    "from sklearn.model_selection import train_test_split\n",
    "from sklearn.preprocessing import LabelEncoder, StandardScaler\n",
    "from sklearn.pipeline import Pipeline\n",
    "from sklearn.ensemble import RandomForestClassifier, GradientBoostingRegressor\n",
    "from sklearn.metrics import log_loss, accuracy_score\n",
    "import warnings\n",
    "\n",
    "import helpers\n",
    "\n",
    "warnings.filterwarnings(\"ignore\")"
   ]
  },
  {
   "cell_type": "code",
   "execution_count": 2,
   "id": "8b5196ce-2b1f-4bd4-90d5-a9e9f23da96c",
   "metadata": {},
   "outputs": [],
   "source": [
    "round_number = 2"
   ]
  },
  {
   "cell_type": "markdown",
   "id": "a043d08b-b88a-4475-8b1b-94db4f68489d",
   "metadata": {},
   "source": [
    "## 1- Import data"
   ]
  },
  {
   "cell_type": "code",
   "execution_count": 3,
   "id": "3d8b2bfc-7863-4000-8a76-5649fa6db802",
   "metadata": {},
   "outputs": [
    {
     "name": "stdout",
     "output_type": "stream",
     "text": [
      "Loading 2025-26...\n",
      "Loading 2024-25...\n",
      "Loading 2023-24...\n",
      "Loading 2022-23...\n",
      "Loading 2021-22...\n",
      "Loading 2020-21...\n",
      "Loading 2019-20...\n",
      "Loading 2018-19...\n",
      "Loading 2017-18...\n",
      "Loading 2016-17...\n",
      "Saved master dataset to ./data/all_seasons_data.csv (Total matches: 3430).\n"
     ]
    }
   ],
   "source": [
    "seasons = {\n",
    "    '2025-26': './data/2025-26.csv',\n",
    "    '2024-25': './data/2024-25.csv',\n",
    "    '2023-24': './data/2023-24.csv',\n",
    "    '2022-23': './data/2022-23.csv',\n",
    "    '2021-22': './data/2021-22.csv',\n",
    "    '2020-21': './data/2020-21.csv',\n",
    "    '2019-20': './data/2019-20.csv',\n",
    "    '2018-19': './data/2018-19.csv',\n",
    "    '2017-18': './data/2017-18.csv',\n",
    "    '2016-17': './data/2016-17.csv'\n",
    "}\n",
    "\n",
    "master_df = helpers.build_master_df(seasons)"
   ]
  },
  {
   "cell_type": "markdown",
   "id": "91237bb4-ff2a-444d-8c05-f233701118ce",
   "metadata": {},
   "source": [
    "### Adding fixtures for 2025/26"
   ]
  },
  {
   "cell_type": "code",
   "execution_count": 4,
   "id": "3ab881dc-b74f-4ce3-922b-63bf26f83d98",
   "metadata": {},
   "outputs": [],
   "source": [
    "fixtures = pd.read_csv('./data/fixtures.csv')"
   ]
  },
  {
   "cell_type": "code",
   "execution_count": 5,
   "id": "75ccb499-f9ea-42cf-8d63-a6171d352458",
   "metadata": {},
   "outputs": [],
   "source": [
    "fixtures['Date'] = pd.to_datetime(fixtures['Date'])"
   ]
  },
  {
   "cell_type": "code",
   "execution_count": 6,
   "id": "70f06272-e501-4715-8e85-f86bb53bea00",
   "metadata": {},
   "outputs": [],
   "source": [
    "team_map = {'Spurs': 'Tottenham',\n",
    "            'Man Utd': 'Man United'}\n",
    "\n",
    "fixture_column_map = {'Date': 'date',\n",
    "                      'Home Team': 'home_team',\n",
    "                      'Away Team': 'away_team',\n",
    "                      'Round Number': 'round_number'}\n",
    "\n",
    "fixtures['Home Team'] = fixtures['Home Team'].map(lambda x: team_map.get(x, x))\n",
    "fixtures['Away Team'] = fixtures['Away Team'].map(lambda x: team_map.get(x, x))\n",
    "\n",
    "fixtures = fixtures.rename(columns=fixture_column_map)\n",
    "fixtures = fixtures[['date', 'home_team', 'away_team', 'round_number']]\n",
    "fixtures = fixtures.loc[fixtures['round_number']==2]"
   ]
  },
  {
   "cell_type": "code",
   "execution_count": 7,
   "id": "2e2da800-9f73-4f64-93f3-45c1e5de3e95",
   "metadata": {},
   "outputs": [],
   "source": [
    "master_column_map = {'Date': 'date',\n",
    "                     'HomeTeam': 'home_team',\n",
    "                     'AwayTeam': 'away_team',\n",
    "                     'FTHG': 'home_goals',\n",
    "                     'FTAG': 'away_goals',\n",
    "                     'FTR': 'result'}"
   ]
  },
  {
   "cell_type": "code",
   "execution_count": 8,
   "id": "e56e888f-e942-4ca3-8ad5-f8fc337e7df6",
   "metadata": {},
   "outputs": [],
   "source": [
    "master_df = master_df.rename(columns=master_column_map)\n",
    "master_df = master_df[list(master_column_map.values())]\n",
    "master_df = master_df.assign(round_number=0)"
   ]
  },
  {
   "cell_type": "code",
   "execution_count": 9,
   "id": "584475c5-41ad-462e-81bc-c4f2bf7cc187",
   "metadata": {},
   "outputs": [],
   "source": [
    "master_df = pd.concat([master_df, fixtures])"
   ]
  },
  {
   "cell_type": "markdown",
   "id": "f202f5ee-2d90-4ff5-a547-b2d65d815019",
   "metadata": {},
   "source": [
    "## 2 - Encoding Teams"
   ]
  },
  {
   "cell_type": "code",
   "execution_count": 10,
   "id": "f1f8fc4e-ee8c-47ba-b12b-0302690a8ca7",
   "metadata": {},
   "outputs": [],
   "source": [
    "team_encoder = LabelEncoder()\n",
    "master_df['home_id'] = team_encoder.fit_transform(master_df['home_team'])\n",
    "master_df['away_id'] = team_encoder.transform(master_df['away_team'])"
   ]
  },
  {
   "cell_type": "markdown",
   "id": "801dd1fb-0db1-4eb9-8155-bc83a6fd7ce4",
   "metadata": {},
   "source": [
    "## 3 - Adding Features"
   ]
  },
  {
   "cell_type": "code",
   "execution_count": 11,
   "id": "e2ec8057-1cc0-4cb6-8997-ba3f0f9f2fb5",
   "metadata": {},
   "outputs": [],
   "source": [
    "window_len = 5\n",
    "\n",
    "# Home points and Away points\n",
    "points_map_home = {\"H\": 3, \"D\": 1, \"A\": 0}\n",
    "points_map_away = {\"H\": 0, \"D\": 1, \"A\": 3}\n",
    "master_df[\"home_points\"] = master_df[\"result\"].map(points_map_home)\n",
    "master_df[\"away_points\"] = master_df[\"result\"].map(points_map_away)\n",
    "\n",
    "# Rolling average home and away goals\n",
    "master_df[f'avg_home_goals_last_{window_len}'] = master_df.groupby('home_team')['home_goals'].transform(lambda x: x.rolling(window_len, min_periods=1).mean())\n",
    "master_df[f'avg_away_goals_last_{window_len}'] = master_df.groupby('away_team')['away_goals'].transform(lambda x: x.rolling(window_len, min_periods=1).mean())\n",
    "\n",
    "# Points per game last 5\n",
    "master_df[f'home_ppg_last_{window_len}'] = master_df.groupby('home_team')['home_points'].transform(lambda x: x.rolling(window_len, min_periods=1).mean())\n",
    "master_df[f'away_ppg_last_{window_len}'] = master_df.groupby('away_team')['away_points'].transform(lambda x: x.rolling(window_len, min_periods=1).mean())"
   ]
  },
  {
   "cell_type": "markdown",
   "id": "f5f109fa-7d28-43ed-a490-aa9ab3b77e2a",
   "metadata": {},
   "source": [
    "### Elo rating"
   ]
  },
  {
   "cell_type": "code",
   "execution_count": 12,
   "id": "2931ff89-4c7b-4eed-9cd5-2138608e94a1",
   "metadata": {},
   "outputs": [],
   "source": [
    "elo_ratings, elo_df = helpers.calculate_elo(master_df)\n",
    "master_df = master_df.merge(elo_df[[\"date\",\"home_team\", \"away_team\", \"home_elo_before\", \"away_elo_before\", \"home_elo_after\", \"away_elo_after\"]], on=[\"date\", \"home_team\", \"away_team\"])"
   ]
  },
  {
   "cell_type": "code",
   "execution_count": 13,
   "id": "70ec741a-2495-4d6e-af7b-fec49c401888",
   "metadata": {},
   "outputs": [],
   "source": [
    "master_df['date'] = pd.to_datetime(master_df['date'])"
   ]
  },
  {
   "cell_type": "code",
   "execution_count": 14,
   "id": "e8a4a8a2-52d1-4fe8-9005-65943545f4c6",
   "metadata": {},
   "outputs": [
    {
     "data": {
      "text/plain": [
       "date                     datetime64[ns]\n",
       "home_team                        object\n",
       "away_team                        object\n",
       "home_goals                      float64\n",
       "away_goals                      float64\n",
       "result                           object\n",
       "round_number                      int64\n",
       "home_id                           int64\n",
       "away_id                           int64\n",
       "home_points                     float64\n",
       "away_points                     float64\n",
       "avg_home_goals_last_5           float64\n",
       "avg_away_goals_last_5           float64\n",
       "home_ppg_last_5                 float64\n",
       "away_ppg_last_5                 float64\n",
       "home_elo_before                 float64\n",
       "away_elo_before                 float64\n",
       "home_elo_after                  float64\n",
       "away_elo_after                  float64\n",
       "dtype: object"
      ]
     },
     "execution_count": 14,
     "metadata": {},
     "output_type": "execute_result"
    }
   ],
   "source": [
    "master_df.dtypes"
   ]
  },
  {
   "cell_type": "code",
   "execution_count": 15,
   "id": "ea3475d3-3108-43bf-942f-ced8a93d6e60",
   "metadata": {},
   "outputs": [],
   "source": [
    "master_df[\"days_rested_home\"] = master_df.groupby(\"home_team\")[\"date\"].diff().dt.days\n",
    "master_df[\"days_rested_away\"] = master_df.groupby(\"away_team\")[\"date\"].diff().dt.days"
   ]
  },
  {
   "cell_type": "markdown",
   "id": "4044253b-a80f-4232-9a61-0d0029c7c44a",
   "metadata": {},
   "source": [
    "## 5- Prepare Training Dataset"
   ]
  },
  {
   "cell_type": "code",
   "execution_count": 16,
   "id": "c6877dc2-5557-4089-9727-cf02f66a1922",
   "metadata": {},
   "outputs": [],
   "source": [
    "feat_cols = ['home_id', 'away_id',\n",
    "             'avg_home_goals_last_5', 'avg_away_goals_last_5',\n",
    "             'home_ppg_last_5', 'away_ppg_last_5',\n",
    "             'home_elo_before', 'away_elo_before',\n",
    "             'days_rested_home', 'days_rested_away',\n",
    "             'date', 'result',\n",
    "             'round_number']\n",
    "\n",
    "feature_df = master_df[feat_cols]"
   ]
  },
  {
   "cell_type": "code",
   "execution_count": 17,
   "id": "5157aed5-bd17-466c-9212-4a66bfbeb54d",
   "metadata": {},
   "outputs": [],
   "source": [
    "train_test_data = feature_df.loc[feature_df['round_number']!=round_number].dropna()\n",
    "predict_data = master_df.loc[master_df['round_number']==round_number]\n",
    "predict_data = predict_data[['home_id', 'away_id', \n",
    "                             'avg_home_goals_last_5', 'avg_away_goals_last_5',\n",
    "                             'home_ppg_last_5', 'away_ppg_last_5',\n",
    "                             'home_elo_before', 'away_elo_before',\n",
    "                             'days_rested_home', 'days_rested_away']]"
   ]
  },
  {
   "cell_type": "code",
   "execution_count": 18,
   "id": "5b37f8f3-7950-4c2e-b3df-eeb37ac56960",
   "metadata": {},
   "outputs": [],
   "source": [
    "# Time based split for improved accuracy\n",
    "\n",
    "split_date = train_test_data['date'].quantile(0.8)\n",
    "x_train = train_test_data[train_test_data['date'] <= split_date].drop(['date', 'result', 'round_number'], axis=1)\n",
    "y_train = train_test_data[train_test_data['date'] <= split_date]\n",
    "x_test  = train_test_data[train_test_data['date'] > split_date].drop(['date', 'result', 'round_number'], axis=1)\n",
    "y_test  = train_test_data[train_test_data['date'] > split_date]\n",
    "\n",
    "y_train = y_train[['result']]\n",
    "y_test = y_test[['result']]"
   ]
  },
  {
   "cell_type": "code",
   "execution_count": 19,
   "id": "88651897-02ee-47c8-bc79-9b1b436482ab",
   "metadata": {},
   "outputs": [
    {
     "data": {
      "text/html": [
       "<div>\n",
       "<style scoped>\n",
       "    .dataframe tbody tr th:only-of-type {\n",
       "        vertical-align: middle;\n",
       "    }\n",
       "\n",
       "    .dataframe tbody tr th {\n",
       "        vertical-align: top;\n",
       "    }\n",
       "\n",
       "    .dataframe thead th {\n",
       "        text-align: right;\n",
       "    }\n",
       "</style>\n",
       "<table border=\"1\" class=\"dataframe\">\n",
       "  <thead>\n",
       "    <tr style=\"text-align: right;\">\n",
       "      <th></th>\n",
       "      <th>home_id</th>\n",
       "      <th>away_id</th>\n",
       "      <th>avg_home_goals_last_5</th>\n",
       "      <th>avg_away_goals_last_5</th>\n",
       "      <th>home_ppg_last_5</th>\n",
       "      <th>away_ppg_last_5</th>\n",
       "      <th>home_elo_before</th>\n",
       "      <th>away_elo_before</th>\n",
       "      <th>days_rested_home</th>\n",
       "      <th>days_rested_away</th>\n",
       "    </tr>\n",
       "  </thead>\n",
       "  <tbody>\n",
       "    <tr>\n",
       "      <th>3430</th>\n",
       "      <td>32</td>\n",
       "      <td>7</td>\n",
       "      <td>1.25</td>\n",
       "      <td>0.75</td>\n",
       "      <td>0.75</td>\n",
       "      <td>1.75</td>\n",
       "      <td>1506.292347</td>\n",
       "      <td>1662.061672</td>\n",
       "      <td>96.0</td>\n",
       "      <td>89.0</td>\n",
       "    </tr>\n",
       "    <tr>\n",
       "      <th>3431</th>\n",
       "      <td>18</td>\n",
       "      <td>29</td>\n",
       "      <td>2.75</td>\n",
       "      <td>1.00</td>\n",
       "      <td>3.00</td>\n",
       "      <td>0.25</td>\n",
       "      <td>1774.411638</td>\n",
       "      <td>1510.014208</td>\n",
       "      <td>95.0</td>\n",
       "      <td>99.0</td>\n",
       "    </tr>\n",
       "    <tr>\n",
       "      <th>3432</th>\n",
       "      <td>2</td>\n",
       "      <td>33</td>\n",
       "      <td>1.00</td>\n",
       "      <td>1.25</td>\n",
       "      <td>1.75</td>\n",
       "      <td>1.50</td>\n",
       "      <td>1558.465776</td>\n",
       "      <td>1501.811371</td>\n",
       "      <td>90.0</td>\n",
       "      <td>95.0</td>\n",
       "    </tr>\n",
       "    <tr>\n",
       "      <th>3433</th>\n",
       "      <td>3</td>\n",
       "      <td>1</td>\n",
       "      <td>2.50</td>\n",
       "      <td>1.25</td>\n",
       "      <td>1.75</td>\n",
       "      <td>1.50</td>\n",
       "      <td>1568.004073</td>\n",
       "      <td>1656.307663</td>\n",
       "      <td>97.0</td>\n",
       "      <td>90.0</td>\n",
       "    </tr>\n",
       "    <tr>\n",
       "      <th>3434</th>\n",
       "      <td>5</td>\n",
       "      <td>27</td>\n",
       "      <td>1.00</td>\n",
       "      <td>0.75</td>\n",
       "      <td>0.50</td>\n",
       "      <td>0.75</td>\n",
       "      <td>1402.168882</td>\n",
       "      <td>1380.815222</td>\n",
       "      <td>461.0</td>\n",
       "      <td>3016.0</td>\n",
       "    </tr>\n",
       "    <tr>\n",
       "      <th>3435</th>\n",
       "      <td>0</td>\n",
       "      <td>14</td>\n",
       "      <td>1.25</td>\n",
       "      <td>1.00</td>\n",
       "      <td>1.25</td>\n",
       "      <td>0.00</td>\n",
       "      <td>1762.129492</td>\n",
       "      <td>1450.061681</td>\n",
       "      <td>97.0</td>\n",
       "      <td>825.0</td>\n",
       "    </tr>\n",
       "    <tr>\n",
       "      <th>3436</th>\n",
       "      <td>8</td>\n",
       "      <td>23</td>\n",
       "      <td>1.75</td>\n",
       "      <td>1.50</td>\n",
       "      <td>2.00</td>\n",
       "      <td>1.75</td>\n",
       "      <td>1603.291968</td>\n",
       "      <td>1583.293100</td>\n",
       "      <td>96.0</td>\n",
       "      <td>98.0</td>\n",
       "    </tr>\n",
       "    <tr>\n",
       "      <th>3437</th>\n",
       "      <td>9</td>\n",
       "      <td>4</td>\n",
       "      <td>1.25</td>\n",
       "      <td>2.25</td>\n",
       "      <td>1.25</td>\n",
       "      <td>1.50</td>\n",
       "      <td>1558.156589</td>\n",
       "      <td>1610.190165</td>\n",
       "      <td>98.0</td>\n",
       "      <td>91.0</td>\n",
       "    </tr>\n",
       "    <tr>\n",
       "      <th>3438</th>\n",
       "      <td>10</td>\n",
       "      <td>19</td>\n",
       "      <td>1.25</td>\n",
       "      <td>1.25</td>\n",
       "      <td>0.75</td>\n",
       "      <td>0.25</td>\n",
       "      <td>1559.161599</td>\n",
       "      <td>1540.052219</td>\n",
       "      <td>91.0</td>\n",
       "      <td>100.0</td>\n",
       "    </tr>\n",
       "    <tr>\n",
       "      <th>3439</th>\n",
       "      <td>21</td>\n",
       "      <td>16</td>\n",
       "      <td>2.50</td>\n",
       "      <td>1.50</td>\n",
       "      <td>2.25</td>\n",
       "      <td>0.75</td>\n",
       "      <td>1646.311291</td>\n",
       "      <td>1774.053919</td>\n",
       "      <td>92.0</td>\n",
       "      <td>98.0</td>\n",
       "    </tr>\n",
       "  </tbody>\n",
       "</table>\n",
       "</div>"
      ],
      "text/plain": [
       "      home_id  away_id  avg_home_goals_last_5  avg_away_goals_last_5  \\\n",
       "3430       32        7                   1.25                   0.75   \n",
       "3431       18       29                   2.75                   1.00   \n",
       "3432        2       33                   1.00                   1.25   \n",
       "3433        3        1                   2.50                   1.25   \n",
       "3434        5       27                   1.00                   0.75   \n",
       "3435        0       14                   1.25                   1.00   \n",
       "3436        8       23                   1.75                   1.50   \n",
       "3437        9        4                   1.25                   2.25   \n",
       "3438       10       19                   1.25                   1.25   \n",
       "3439       21       16                   2.50                   1.50   \n",
       "\n",
       "      home_ppg_last_5  away_ppg_last_5  home_elo_before  away_elo_before  \\\n",
       "3430             0.75             1.75      1506.292347      1662.061672   \n",
       "3431             3.00             0.25      1774.411638      1510.014208   \n",
       "3432             1.75             1.50      1558.465776      1501.811371   \n",
       "3433             1.75             1.50      1568.004073      1656.307663   \n",
       "3434             0.50             0.75      1402.168882      1380.815222   \n",
       "3435             1.25             0.00      1762.129492      1450.061681   \n",
       "3436             2.00             1.75      1603.291968      1583.293100   \n",
       "3437             1.25             1.50      1558.156589      1610.190165   \n",
       "3438             0.75             0.25      1559.161599      1540.052219   \n",
       "3439             2.25             0.75      1646.311291      1774.053919   \n",
       "\n",
       "      days_rested_home  days_rested_away  \n",
       "3430              96.0              89.0  \n",
       "3431              95.0              99.0  \n",
       "3432              90.0              95.0  \n",
       "3433              97.0              90.0  \n",
       "3434             461.0            3016.0  \n",
       "3435              97.0             825.0  \n",
       "3436              96.0              98.0  \n",
       "3437              98.0              91.0  \n",
       "3438              91.0             100.0  \n",
       "3439              92.0              98.0  "
      ]
     },
     "execution_count": 19,
     "metadata": {},
     "output_type": "execute_result"
    }
   ],
   "source": [
    "predict_data"
   ]
  },
  {
   "cell_type": "markdown",
   "id": "f8cf66b7-f8b2-4b24-8e4e-52c80cd4e874",
   "metadata": {},
   "source": [
    "## 6- Train Dataset"
   ]
  },
  {
   "cell_type": "code",
   "execution_count": 20,
   "id": "f72bccaf-d438-4eab-8b24-cf2f5669c760",
   "metadata": {},
   "outputs": [
    {
     "name": "stdout",
     "output_type": "stream",
     "text": [
      "RF Log Loss: 0.7716075873060149\n",
      "RF Accuracy: 0.654357459379616\n"
     ]
    }
   ],
   "source": [
    "rf = RandomForestClassifier(n_estimators=300, max_depth=None, random_state=42)\n",
    "rf.fit(x_train, y_train)\n",
    "\n",
    "y_pred_proba_rf = rf.predict_proba(x_test)\n",
    "print(\"RF Log Loss:\", log_loss(y_test, y_pred_proba_rf))\n",
    "print(\"RF Accuracy:\", accuracy_score(y_test, rf.predict(x_test)))"
   ]
  },
  {
   "cell_type": "markdown",
   "id": "cfd6b329-8e94-4af1-b7ad-bd025a257dde",
   "metadata": {},
   "source": [
    "## 7 - Predict this weeks results"
   ]
  },
  {
   "cell_type": "code",
   "execution_count": 21,
   "id": "d52b50a5-e915-4a50-83cc-78a01027626c",
   "metadata": {},
   "outputs": [],
   "source": [
    "fixtures_this_week = fixtures.loc[fixtures['round_number']==2]\n",
    "fixtures_this_week = fixtures_this_week[['home_team', 'away_team']].reset_index(drop=True)\n",
    "fixtures_this_week['prediction'] = rf.predict(predict_data)"
   ]
  },
  {
   "cell_type": "code",
   "execution_count": 22,
   "id": "24d5be37-5b81-4380-81e9-f22e0a2bf1d6",
   "metadata": {},
   "outputs": [
    {
     "data": {
      "text/html": [
       "<div>\n",
       "<style scoped>\n",
       "    .dataframe tbody tr th:only-of-type {\n",
       "        vertical-align: middle;\n",
       "    }\n",
       "\n",
       "    .dataframe tbody tr th {\n",
       "        vertical-align: top;\n",
       "    }\n",
       "\n",
       "    .dataframe thead th {\n",
       "        text-align: right;\n",
       "    }\n",
       "</style>\n",
       "<table border=\"1\" class=\"dataframe\">\n",
       "  <thead>\n",
       "    <tr style=\"text-align: right;\">\n",
       "      <th></th>\n",
       "      <th>home_team</th>\n",
       "      <th>away_team</th>\n",
       "      <th>prediction</th>\n",
       "    </tr>\n",
       "  </thead>\n",
       "  <tbody>\n",
       "    <tr>\n",
       "      <th>0</th>\n",
       "      <td>West Ham</td>\n",
       "      <td>Chelsea</td>\n",
       "      <td>A</td>\n",
       "    </tr>\n",
       "    <tr>\n",
       "      <th>1</th>\n",
       "      <td>Man City</td>\n",
       "      <td>Tottenham</td>\n",
       "      <td>H</td>\n",
       "    </tr>\n",
       "    <tr>\n",
       "      <th>2</th>\n",
       "      <td>Bournemouth</td>\n",
       "      <td>Wolves</td>\n",
       "      <td>H</td>\n",
       "    </tr>\n",
       "    <tr>\n",
       "      <th>3</th>\n",
       "      <td>Brentford</td>\n",
       "      <td>Aston Villa</td>\n",
       "      <td>A</td>\n",
       "    </tr>\n",
       "    <tr>\n",
       "      <th>4</th>\n",
       "      <td>Burnley</td>\n",
       "      <td>Sunderland</td>\n",
       "      <td>A</td>\n",
       "    </tr>\n",
       "    <tr>\n",
       "      <th>5</th>\n",
       "      <td>Arsenal</td>\n",
       "      <td>Leeds</td>\n",
       "      <td>H</td>\n",
       "    </tr>\n",
       "    <tr>\n",
       "      <th>6</th>\n",
       "      <td>Crystal Palace</td>\n",
       "      <td>Nott'm Forest</td>\n",
       "      <td>D</td>\n",
       "    </tr>\n",
       "    <tr>\n",
       "      <th>7</th>\n",
       "      <td>Everton</td>\n",
       "      <td>Brighton</td>\n",
       "      <td>A</td>\n",
       "    </tr>\n",
       "    <tr>\n",
       "      <th>8</th>\n",
       "      <td>Fulham</td>\n",
       "      <td>Man United</td>\n",
       "      <td>D</td>\n",
       "    </tr>\n",
       "    <tr>\n",
       "      <th>9</th>\n",
       "      <td>Newcastle</td>\n",
       "      <td>Liverpool</td>\n",
       "      <td>H</td>\n",
       "    </tr>\n",
       "  </tbody>\n",
       "</table>\n",
       "</div>"
      ],
      "text/plain": [
       "        home_team      away_team prediction\n",
       "0        West Ham        Chelsea          A\n",
       "1        Man City      Tottenham          H\n",
       "2     Bournemouth         Wolves          H\n",
       "3       Brentford    Aston Villa          A\n",
       "4         Burnley     Sunderland          A\n",
       "5         Arsenal          Leeds          H\n",
       "6  Crystal Palace  Nott'm Forest          D\n",
       "7         Everton       Brighton          A\n",
       "8          Fulham     Man United          D\n",
       "9       Newcastle      Liverpool          H"
      ]
     },
     "execution_count": 22,
     "metadata": {},
     "output_type": "execute_result"
    }
   ],
   "source": [
    "fixtures_this_week"
   ]
  },
  {
   "cell_type": "code",
   "execution_count": null,
   "id": "e8aea7fe-7db2-4358-9e4a-8acab39633b3",
   "metadata": {},
   "outputs": [],
   "source": []
  }
 ],
 "metadata": {
  "kernelspec": {
   "display_name": "Python Rowan",
   "language": "python",
   "name": "rowan-env"
  },
  "language_info": {
   "codemirror_mode": {
    "name": "ipython",
    "version": 3
   },
   "file_extension": ".py",
   "mimetype": "text/x-python",
   "name": "python",
   "nbconvert_exporter": "python",
   "pygments_lexer": "ipython3",
   "version": "3.13.7"
  }
 },
 "nbformat": 4,
 "nbformat_minor": 5
}
