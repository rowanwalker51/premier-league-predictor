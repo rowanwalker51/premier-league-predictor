{
 "cells": [
  {
   "cell_type": "code",
   "execution_count": 1,
   "id": "85e68b97-d053-413c-b15c-162c91e7ca5c",
   "metadata": {},
   "outputs": [],
   "source": [
    "import pandas as pd\n",
    "import numpy as np\n",
    "from sklearn.model_selection import train_test_split\n",
    "from sklearn.preprocessing import LabelEncoder, StandardScaler\n",
    "from sklearn.pipeline import Pipeline\n",
    "from sklearn.ensemble import RandomForestClassifier, GradientBoostingRegressor\n",
    "from sklearn.metrics import log_loss, accuracy_score\n",
    "import warnings\n",
    "\n",
    "import sys\n",
    "sys.path.append(\"..\")\n",
    "\n",
    "import utils\n",
    "\n",
    "warnings.filterwarnings(\"ignore\")"
   ]
  },
  {
   "cell_type": "code",
   "execution_count": 2,
   "id": "8b5196ce-2b1f-4bd4-90d5-a9e9f23da96c",
   "metadata": {},
   "outputs": [],
   "source": [
    "round_number = 3"
   ]
  },
  {
   "cell_type": "markdown",
   "id": "a043d08b-b88a-4475-8b1b-94db4f68489d",
   "metadata": {},
   "source": [
    "## 1- Import data"
   ]
  },
  {
   "cell_type": "code",
   "execution_count": 3,
   "id": "3d8b2bfc-7863-4000-8a76-5649fa6db802",
   "metadata": {},
   "outputs": [
    {
     "name": "stdout",
     "output_type": "stream",
     "text": [
      "Loading 2025-26...\n",
      "Loading 2024-25...\n",
      "Loading 2023-24...\n",
      "Loading 2022-23...\n",
      "Loading 2021-22...\n",
      "Loading 2020-21...\n",
      "Loading 2019-20...\n",
      "Loading 2018-19...\n",
      "Loading 2017-18...\n",
      "Loading 2016-17...\n",
      "Saved master dataset to ../data/all_seasons_data.csv (Total matches: 3440).\n"
     ]
    }
   ],
   "source": [
    "seasons = {\n",
    "    '2025-26': '../data/2025-26.csv',\n",
    "    '2024-25': '../data/2024-25.csv',\n",
    "    '2023-24': '../data/2023-24.csv',\n",
    "    '2022-23': '../data/2022-23.csv',\n",
    "    '2021-22': '../data/2021-22.csv',\n",
    "    '2020-21': '../data/2020-21.csv',\n",
    "    '2019-20': '../data/2019-20.csv',\n",
    "    '2018-19': '../data/2018-19.csv',\n",
    "    '2017-18': '../data/2017-18.csv',\n",
    "    '2016-17': '../data/2016-17.csv'\n",
    "}\n",
    "\n",
    "master_df = utils.build_master_df(seasons, save_path=\"../data/all_seasons_data.csv\")"
   ]
  },
  {
   "cell_type": "markdown",
   "id": "6755623e-9fa3-4e55-9f65-be6666d9c5ee",
   "metadata": {},
   "source": [
    "### Add betting market consensus probabilities"
   ]
  },
  {
   "cell_type": "code",
   "execution_count": 4,
   "id": "49cc8292-0eef-417d-a4d6-59814820c1a4",
   "metadata": {},
   "outputs": [],
   "source": [
    "#Keep odds where >90% are populated. Odds are decimal.\n",
    "odds = ['B365', 'BW', 'IW', 'VC', 'WH']\n",
    "\n",
    "home_odds = [i + 'H' for i in odds]\n",
    "draw_odds = [i + 'D' for i in odds]\n",
    "away_odds = [i + 'A' for i in odds]"
   ]
  },
  {
   "cell_type": "code",
   "execution_count": 5,
   "id": "5e7e545c-9770-42d7-addb-a9913c195813",
   "metadata": {},
   "outputs": [],
   "source": [
    "#Imput NA with mean across rows\n",
    "master_df[home_odds] = master_df[home_odds].apply(lambda row: row.fillna(row.mean()), axis=1)\n",
    "master_df[draw_odds] = master_df[draw_odds].apply(lambda row: row.fillna(row.mean()), axis=1)\n",
    "master_df[away_odds] = master_df[away_odds].apply(lambda row: row.fillna(row.mean()), axis=1)"
   ]
  },
  {
   "cell_type": "code",
   "execution_count": 6,
   "id": "0532f1bc-ec15-49f8-92c9-7d55d8d070af",
   "metadata": {},
   "outputs": [],
   "source": [
    "master_df['home_prob'] = 1/master_df[home_odds].mean(axis=1)\n",
    "master_df['draw_prob'] = 1/master_df[draw_odds].mean(axis=1)\n",
    "master_df['away_prob'] = 1/master_df[away_odds].mean(axis=1)"
   ]
  },
  {
   "cell_type": "markdown",
   "id": "91237bb4-ff2a-444d-8c05-f233701118ce",
   "metadata": {},
   "source": [
    "### Adding fixtures for 2025/26"
   ]
  },
  {
   "cell_type": "code",
   "execution_count": 7,
   "id": "3ab881dc-b74f-4ce3-922b-63bf26f83d98",
   "metadata": {},
   "outputs": [],
   "source": [
    "fixtures = pd.read_csv('../data/fixtures.csv')"
   ]
  },
  {
   "cell_type": "code",
   "execution_count": 8,
   "id": "75ccb499-f9ea-42cf-8d63-a6171d352458",
   "metadata": {},
   "outputs": [],
   "source": [
    "fixtures['Date'] = pd.to_datetime(fixtures['Date'])\n",
    "fixtures['season'] = '2025-26'"
   ]
  },
  {
   "cell_type": "code",
   "execution_count": 9,
   "id": "70f06272-e501-4715-8e85-f86bb53bea00",
   "metadata": {},
   "outputs": [],
   "source": [
    "team_map = {'Spurs': 'Tottenham',\n",
    "            'Man Utd': 'Man United'}\n",
    "\n",
    "fixture_column_map = {'Date': 'date',\n",
    "                      'Home Team': 'home_team',\n",
    "                      'Away Team': 'away_team',\n",
    "                      'Round Number': 'round_number'}\n",
    "\n",
    "fixtures['Home Team'] = fixtures['Home Team'].map(lambda x: team_map.get(x, x))\n",
    "fixtures['Away Team'] = fixtures['Away Team'].map(lambda x: team_map.get(x, x))\n",
    "\n",
    "fixtures = fixtures.rename(columns=fixture_column_map)\n",
    "fixtures = fixtures[['date', 'home_team', 'away_team', 'round_number']]\n",
    "fixtures = fixtures.loc[fixtures['round_number']==round_number]"
   ]
  },
  {
   "cell_type": "code",
   "execution_count": 10,
   "id": "2e2da800-9f73-4f64-93f3-45c1e5de3e95",
   "metadata": {},
   "outputs": [],
   "source": [
    "master_column_map = {'Date': 'date',\n",
    "                     'HomeTeam': 'home_team',\n",
    "                     'AwayTeam': 'away_team',\n",
    "                     'FTHG': 'home_goals',\n",
    "                     'FTAG': 'away_goals',\n",
    "                     'FTR': 'result',\n",
    "                     'home_prob': 'home_prob',\n",
    "                     'draw_prob': 'draw_prob',\n",
    "                     'away_prob': 'away_prob',\n",
    "                     'season': 'season'}"
   ]
  },
  {
   "cell_type": "code",
   "execution_count": 11,
   "id": "e56e888f-e942-4ca3-8ad5-f8fc337e7df6",
   "metadata": {},
   "outputs": [],
   "source": [
    "master_df = master_df.rename(columns=master_column_map)\n",
    "master_df = master_df[list(master_column_map.values())]\n",
    "master_df = master_df.assign(round_number=0)"
   ]
  },
  {
   "cell_type": "code",
   "execution_count": 12,
   "id": "584475c5-41ad-462e-81bc-c4f2bf7cc187",
   "metadata": {},
   "outputs": [],
   "source": [
    "master_df = pd.concat([master_df, fixtures])"
   ]
  },
  {
   "cell_type": "markdown",
   "id": "f202f5ee-2d90-4ff5-a547-b2d65d815019",
   "metadata": {},
   "source": [
    "## 2 - Encoding Teams"
   ]
  },
  {
   "cell_type": "code",
   "execution_count": 13,
   "id": "f1f8fc4e-ee8c-47ba-b12b-0302690a8ca7",
   "metadata": {},
   "outputs": [],
   "source": [
    "team_encoder = LabelEncoder()\n",
    "master_df['home_id'] = team_encoder.fit_transform(master_df['home_team'])\n",
    "master_df['away_id'] = team_encoder.transform(master_df['away_team'])"
   ]
  },
  {
   "cell_type": "markdown",
   "id": "801dd1fb-0db1-4eb9-8155-bc83a6fd7ce4",
   "metadata": {},
   "source": [
    "## 3 - Adding Features"
   ]
  },
  {
   "cell_type": "markdown",
   "id": "376105d8-a050-4807-a734-82ae11932f7d",
   "metadata": {},
   "source": [
    "### Rolling features"
   ]
  },
  {
   "cell_type": "code",
   "execution_count": 14,
   "id": "e2ec8057-1cc0-4cb6-8997-ba3f0f9f2fb5",
   "metadata": {},
   "outputs": [],
   "source": [
    "window_len = 3\n",
    "\n",
    "# Home points and Away points\n",
    "points_map_home = {\"H\": 3, \"D\": 1, \"A\": 0}\n",
    "points_map_away = {\"H\": 0, \"D\": 1, \"A\": 3}\n",
    "master_df[\"home_points\"] = master_df[\"result\"].map(points_map_home)\n",
    "master_df[\"away_points\"] = master_df[\"result\"].map(points_map_away)\n",
    "\n",
    "# Rolling average home and away goals\n",
    "master_df[f'avg_home_goals_last_{window_len}'] = master_df.groupby('home_team')['home_goals'].transform(lambda x: x.shift().rolling(window_len, min_periods=1).mean())\n",
    "master_df[f'avg_away_goals_last_{window_len}'] = master_df.groupby('away_team')['away_goals'].transform(lambda x: x.shift().rolling(window_len, min_periods=1).mean())\n",
    "\n",
    "# olling average home and away points per game\n",
    "master_df[f'home_ppg_last_{window_len}'] = master_df.groupby('home_team')['home_points'].transform(lambda x: x.shift().rolling(window_len, min_periods=1).mean())\n",
    "master_df[f'away_ppg_last_{window_len}'] = master_df.groupby('away_team')['away_points'].transform(lambda x: x.shift().rolling(window_len, min_periods=1).mean())"
   ]
  },
  {
   "cell_type": "markdown",
   "id": "f5f109fa-7d28-43ed-a490-aa9ab3b77e2a",
   "metadata": {},
   "source": [
    "### Elo rating"
   ]
  },
  {
   "cell_type": "code",
   "execution_count": 15,
   "id": "2931ff89-4c7b-4eed-9cd5-2138608e94a1",
   "metadata": {},
   "outputs": [],
   "source": [
    "elo_ratings, elo_df = utils.calculate_elo(master_df)\n",
    "master_df = master_df.merge(elo_df[[\"date\", \"home_team\", \"away_team\", \"home_elo_before\", \"away_elo_before\", \"home_elo_after\", \"away_elo_after\"]], on=[\"date\", \"home_team\", \"away_team\"])"
   ]
  },
  {
   "cell_type": "code",
   "execution_count": 16,
   "id": "70ec741a-2495-4d6e-af7b-fec49c401888",
   "metadata": {},
   "outputs": [],
   "source": [
    "master_df['date'] = pd.to_datetime(master_df['date'])"
   ]
  },
  {
   "cell_type": "markdown",
   "id": "47f095ff-21f6-4b32-a500-1ffbe1c736d6",
   "metadata": {},
   "source": [
    "### Add rest days"
   ]
  },
  {
   "cell_type": "code",
   "execution_count": 17,
   "id": "a4fd6608-c213-4271-9228-9435339e9818",
   "metadata": {},
   "outputs": [],
   "source": [
    "master_df = utils.add_rest_days(master_df)"
   ]
  },
  {
   "cell_type": "markdown",
   "id": "4044253b-a80f-4232-9a61-0d0029c7c44a",
   "metadata": {},
   "source": [
    "## 5- Prepare Training Dataset"
   ]
  },
  {
   "cell_type": "code",
   "execution_count": 18,
   "id": "c6877dc2-5557-4089-9727-cf02f66a1922",
   "metadata": {},
   "outputs": [],
   "source": [
    "feat_cols = ['home_id', 'away_id',\n",
    "             f'avg_home_goals_last_{window_len}', f'avg_away_goals_last_{window_len}',\n",
    "             f'home_ppg_last_{window_len}', f'away_ppg_last_{window_len}',\n",
    "             'home_elo_before', 'away_elo_before',\n",
    "             'days_rest_home_team', 'days_rest_away_team',\n",
    "             'date', 'result',\n",
    "             'home_prob', 'draw_prob',\n",
    "             'away_prob', 'round_number']\n",
    "\n",
    "feature_df = master_df[feat_cols]"
   ]
  },
  {
   "cell_type": "code",
   "execution_count": 19,
   "id": "5157aed5-bd17-466c-9212-4a66bfbeb54d",
   "metadata": {},
   "outputs": [],
   "source": [
    "train_test_data = feature_df.loc[feature_df['round_number']!=round_number].dropna()\n",
    "predict_data = master_df.loc[master_df['round_number']==round_number]\n",
    "predict_data = predict_data[['home_id', 'away_id', \n",
    "                             f'avg_home_goals_last_{window_len}', f'avg_away_goals_last_{window_len}',\n",
    "                             f'home_ppg_last_{window_len}', f'away_ppg_last_{window_len}',\n",
    "                             'home_elo_before', 'away_elo_before',\n",
    "                             'days_rest_home_team', 'days_rest_away_team',\n",
    "                             'home_prob', 'draw_prob', \n",
    "                             'away_prob']].reset_index(drop=True)"
   ]
  },
  {
   "cell_type": "code",
   "execution_count": 20,
   "id": "5b37f8f3-7950-4c2e-b3df-eeb37ac56960",
   "metadata": {},
   "outputs": [],
   "source": [
    "# Time based split for improved accuracy\n",
    "\n",
    "split_date = train_test_data['date'].quantile(0.8)\n",
    "x_train = train_test_data[train_test_data['date'] <= split_date].drop(['date', 'result', 'round_number'], axis=1).reset_index(drop=True)\n",
    "y_train = train_test_data[train_test_data['date'] <= split_date].reset_index(drop=True)\n",
    "x_test  = train_test_data[train_test_data['date'] > split_date].drop(['date', 'result', 'round_number'], axis=1).reset_index(drop=True)\n",
    "y_test  = train_test_data[train_test_data['date'] > split_date].reset_index(drop=True)\n",
    "\n",
    "y_train = y_train[['result']]\n",
    "y_test = y_test[['result']]"
   ]
  },
  {
   "cell_type": "markdown",
   "id": "f8cf66b7-f8b2-4b24-8e4e-52c80cd4e874",
   "metadata": {},
   "source": [
    "## 6- Train Dataset"
   ]
  },
  {
   "cell_type": "code",
   "execution_count": 21,
   "id": "f72bccaf-d438-4eab-8b24-cf2f5669c760",
   "metadata": {},
   "outputs": [
    {
     "name": "stdout",
     "output_type": "stream",
     "text": [
      "RF Log Loss: 0.9841340338112698\n",
      "RF Accuracy: 0.551622418879056\n"
     ]
    }
   ],
   "source": [
    "rf = RandomForestClassifier(n_estimators=100, max_depth=None, random_state=42)\n",
    "rf.fit(x_train, y_train)\n",
    "\n",
    "y_pred_proba_rf = rf.predict_proba(x_test)\n",
    "print(\"RF Log Loss:\", log_loss(y_test, y_pred_proba_rf))\n",
    "print(\"RF Accuracy:\", accuracy_score(y_test, rf.predict(x_test)))"
   ]
  },
  {
   "cell_type": "markdown",
   "id": "cfd6b329-8e94-4af1-b7ad-bd025a257dde",
   "metadata": {},
   "source": [
    "## 7 - Predict this weeks results"
   ]
  },
  {
   "cell_type": "markdown",
   "id": "93001eef-65de-46c1-bb6e-0626401198d7",
   "metadata": {},
   "source": [
    "### Add this week's odds"
   ]
  },
  {
   "cell_type": "code",
   "execution_count": 22,
   "id": "5cd0bf69-d1da-4426-9613-2d2b2563c04c",
   "metadata": {},
   "outputs": [],
   "source": [
    "#Due to lack of free downloadable odds adding in manually. Odds are fractional\n",
    "predict_data.loc[0, ['home_odds', 'draw_odds', 'away_odds']] = [8/15, 18/5, 11/2]\n",
    "predict_data.loc[1, ['home_odds', 'draw_odds', 'away_odds']] = [3/8, 17/4, 8/1]\n",
    "predict_data.loc[2, ['home_odds', 'draw_odds', 'away_odds']] = [2/1, 23/10, 154/100]\n",
    "predict_data.loc[3, ['home_odds', 'draw_odds', 'away_odds']] = [8/11, 10/3, 7/2]\n",
    "predict_data.loc[4, ['home_odds', 'draw_odds', 'away_odds']] = [164/100, 9/4, 19/10]\n",
    "predict_data.loc[5, ['home_odds', 'draw_odds', 'away_odds']] = [5/2, 47/18, 23/20]\n",
    "predict_data.loc[6, ['home_odds', 'draw_odds', 'away_odds']] = [16/5, 3/1, 9/10]\n",
    "predict_data.loc[7, ['home_odds', 'draw_odds', 'away_odds']] = [8/11, 35/12, 9/2]\n",
    "predict_data.loc[8, ['home_odds', 'draw_odds', 'away_odds']] = [6/5, 13/5, 40/17]\n",
    "predict_data.loc[9, ['home_odds', 'draw_odds', 'away_odds']] = [19/20, 13/5, 16/5]\n",
    "\n",
    "predict_data['home_prob'] = 1/(predict_data['home_odds']+1)\n",
    "predict_data['draw_prob'] = 1/(predict_data['draw_odds']+1)\n",
    "predict_data['away_prob'] = 1/(predict_data['away_odds']+1)\n",
    "predict_data.drop(['home_odds', 'draw_odds', 'away_odds'], axis=1, inplace=True)"
   ]
  },
  {
   "cell_type": "code",
   "execution_count": 23,
   "id": "d52b50a5-e915-4a50-83cc-78a01027626c",
   "metadata": {},
   "outputs": [],
   "source": [
    "fixtures_this_week = fixtures.loc[fixtures['round_number']==round_number]\n",
    "fixtures_this_week = fixtures_this_week[['home_team', 'away_team']].reset_index(drop=True)\n",
    "fixtures_this_week['prediction'] = rf.predict(predict_data)"
   ]
  },
  {
   "cell_type": "code",
   "execution_count": 24,
   "id": "24d5be37-5b81-4380-81e9-f22e0a2bf1d6",
   "metadata": {},
   "outputs": [
    {
     "data": {
      "text/html": [
       "<div>\n",
       "<style scoped>\n",
       "    .dataframe tbody tr th:only-of-type {\n",
       "        vertical-align: middle;\n",
       "    }\n",
       "\n",
       "    .dataframe tbody tr th {\n",
       "        vertical-align: top;\n",
       "    }\n",
       "\n",
       "    .dataframe thead th {\n",
       "        text-align: right;\n",
       "    }\n",
       "</style>\n",
       "<table border=\"1\" class=\"dataframe\">\n",
       "  <thead>\n",
       "    <tr style=\"text-align: right;\">\n",
       "      <th></th>\n",
       "      <th>home_team</th>\n",
       "      <th>away_team</th>\n",
       "      <th>prediction</th>\n",
       "    </tr>\n",
       "  </thead>\n",
       "  <tbody>\n",
       "    <tr>\n",
       "      <th>0</th>\n",
       "      <td>Chelsea</td>\n",
       "      <td>Fulham</td>\n",
       "      <td>H</td>\n",
       "    </tr>\n",
       "    <tr>\n",
       "      <th>1</th>\n",
       "      <td>Man United</td>\n",
       "      <td>Burnley</td>\n",
       "      <td>H</td>\n",
       "    </tr>\n",
       "    <tr>\n",
       "      <th>2</th>\n",
       "      <td>Sunderland</td>\n",
       "      <td>Brentford</td>\n",
       "      <td>A</td>\n",
       "    </tr>\n",
       "    <tr>\n",
       "      <th>3</th>\n",
       "      <td>Tottenham</td>\n",
       "      <td>Bournemouth</td>\n",
       "      <td>H</td>\n",
       "    </tr>\n",
       "    <tr>\n",
       "      <th>4</th>\n",
       "      <td>Wolves</td>\n",
       "      <td>Everton</td>\n",
       "      <td>D</td>\n",
       "    </tr>\n",
       "    <tr>\n",
       "      <th>5</th>\n",
       "      <td>Leeds</td>\n",
       "      <td>Newcastle</td>\n",
       "      <td>A</td>\n",
       "    </tr>\n",
       "    <tr>\n",
       "      <th>6</th>\n",
       "      <td>Brighton</td>\n",
       "      <td>Man City</td>\n",
       "      <td>H</td>\n",
       "    </tr>\n",
       "    <tr>\n",
       "      <th>7</th>\n",
       "      <td>Nott'm Forest</td>\n",
       "      <td>West Ham</td>\n",
       "      <td>H</td>\n",
       "    </tr>\n",
       "    <tr>\n",
       "      <th>8</th>\n",
       "      <td>Liverpool</td>\n",
       "      <td>Arsenal</td>\n",
       "      <td>D</td>\n",
       "    </tr>\n",
       "    <tr>\n",
       "      <th>9</th>\n",
       "      <td>Aston Villa</td>\n",
       "      <td>Crystal Palace</td>\n",
       "      <td>H</td>\n",
       "    </tr>\n",
       "  </tbody>\n",
       "</table>\n",
       "</div>"
      ],
      "text/plain": [
       "       home_team       away_team prediction\n",
       "0        Chelsea          Fulham          H\n",
       "1     Man United         Burnley          H\n",
       "2     Sunderland       Brentford          A\n",
       "3      Tottenham     Bournemouth          H\n",
       "4         Wolves         Everton          D\n",
       "5          Leeds       Newcastle          A\n",
       "6       Brighton        Man City          H\n",
       "7  Nott'm Forest        West Ham          H\n",
       "8      Liverpool         Arsenal          D\n",
       "9    Aston Villa  Crystal Palace          H"
      ]
     },
     "execution_count": 24,
     "metadata": {},
     "output_type": "execute_result"
    }
   ],
   "source": [
    "fixtures_this_week"
   ]
  },
  {
   "cell_type": "markdown",
   "id": "c10da1a6-6efe-4c03-82ac-6d6cca5c9c5c",
   "metadata": {},
   "source": [
    "## Rolling cross-validation"
   ]
  },
  {
   "cell_type": "code",
   "execution_count": 25,
   "id": "18604f05-dd29-4350-94ae-ed18e289daa2",
   "metadata": {},
   "outputs": [],
   "source": [
    "# Example: make some fake time-ordered data\n",
    "# from sklearn.model_selection import TimeSeriesSplit\n",
    "# n_samples = 100\n",
    "# x = pd.concat([x_train, x_test]).reset_index(drop=True)   # features\n",
    "# y = pd.concat([y_train, y_test]).reset_index(drop=True)  # binary target\n",
    "\n",
    "# # Define rolling cross-validation\n",
    "# tscv = TimeSeriesSplit(n_splits=5)  # 5 folds\n",
    "\n",
    "# clf = RandomForestClassifier(random_state=42)\n",
    "\n",
    "# accuracies = []\n",
    "\n",
    "# for train_idx, test_idx in tscv.split(x):\n",
    "#     # expanding window: train on everything before test, test on the next block\n",
    "#     X_train, X_test = x[train_idx], x[test_idx]\n",
    "#     y_train, y_test = y[train_idx], y[test_idx]\n",
    "\n",
    "#     clf.fit(X_train, y_train)\n",
    "#     y_pred = clf.predict(X_test)\n",
    "    \n",
    "#     acc = accuracy_score(y_test, y_pred)\n",
    "#     accuracies.append(acc)\n",
    "#     print(f\"Train size: {len(train_idx)}, Test size: {len(test_idx)}, Accuracy: {acc:.3f}\")"
   ]
  },
  {
   "cell_type": "code",
   "execution_count": null,
   "id": "a3e98215-dc13-4112-b702-d42bda4f2710",
   "metadata": {},
   "outputs": [],
   "source": []
  }
 ],
 "metadata": {
  "kernelspec": {
   "display_name": "Python Rowan",
   "language": "python",
   "name": "rowan-env"
  },
  "language_info": {
   "codemirror_mode": {
    "name": "ipython",
    "version": 3
   },
   "file_extension": ".py",
   "mimetype": "text/x-python",
   "name": "python",
   "nbconvert_exporter": "python",
   "pygments_lexer": "ipython3",
   "version": "3.13.7"
  }
 },
 "nbformat": 4,
 "nbformat_minor": 5
}
