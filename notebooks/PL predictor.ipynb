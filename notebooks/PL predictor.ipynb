{
 "cells": [
  {
   "cell_type": "code",
   "execution_count": 374,
   "id": "85e68b97-d053-413c-b15c-162c91e7ca5c",
   "metadata": {},
   "outputs": [],
   "source": [
    "import pandas as pd\n",
    "import numpy as np\n",
    "from sklearn.model_selection import TimeSeriesSplit, GridSearchCV\n",
    "from sklearn.preprocessing import OneHotEncoder\n",
    "from sklearn.ensemble import RandomForestClassifier, GradientBoostingRegressor\n",
    "from sklearn.metrics import log_loss, accuracy_score\n",
    "import warnings\n",
    "\n",
    "import sys\n",
    "sys.path.append(\"..\")\n",
    "\n",
    "import utils\n",
    "\n",
    "warnings.filterwarnings(\"ignore\")"
   ]
  },
  {
   "cell_type": "code",
   "execution_count": 375,
   "id": "8b5196ce-2b1f-4bd4-90d5-a9e9f23da96c",
   "metadata": {},
   "outputs": [],
   "source": [
    "round_number = 5"
   ]
  },
  {
   "cell_type": "markdown",
   "id": "a043d08b-b88a-4475-8b1b-94db4f68489d",
   "metadata": {},
   "source": [
    "## 1- Import data"
   ]
  },
  {
   "cell_type": "code",
   "execution_count": 376,
   "id": "3d8b2bfc-7863-4000-8a76-5649fa6db802",
   "metadata": {},
   "outputs": [
    {
     "name": "stdout",
     "output_type": "stream",
     "text": [
      "Loading 2025-26...\n",
      "Loading 2024-25...\n",
      "Loading 2023-24...\n",
      "Loading 2022-23...\n",
      "Loading 2021-22...\n",
      "Loading 2020-21...\n",
      "Loading 2019-20...\n",
      "Loading 2018-19...\n",
      "Loading 2017-18...\n",
      "Loading 2016-17...\n",
      "Saved master dataset to ../data/all_seasons_data.csv (Total matches: 3460).\n"
     ]
    }
   ],
   "source": [
    "seasons = {\n",
    "    '2025-26': '../data/2025-26.csv',\n",
    "    '2024-25': '../data/2024-25.csv',\n",
    "    '2023-24': '../data/2023-24.csv',\n",
    "    '2022-23': '../data/2022-23.csv',\n",
    "    '2021-22': '../data/2021-22.csv',\n",
    "    '2020-21': '../data/2020-21.csv',\n",
    "    '2019-20': '../data/2019-20.csv',\n",
    "    '2018-19': '../data/2018-19.csv',\n",
    "    '2017-18': '../data/2017-18.csv',\n",
    "    '2016-17': '../data/2016-17.csv'\n",
    "}\n",
    "\n",
    "master_df = utils.build_master_df(seasons, save_path=\"../data/all_seasons_data.csv\")"
   ]
  },
  {
   "cell_type": "markdown",
   "id": "6755623e-9fa3-4e55-9f65-be6666d9c5ee",
   "metadata": {},
   "source": [
    "### Add betting market consensus probabilities"
   ]
  },
  {
   "cell_type": "code",
   "execution_count": 377,
   "id": "49cc8292-0eef-417d-a4d6-59814820c1a4",
   "metadata": {},
   "outputs": [],
   "source": [
    "#Keep odds where >90% are populated. Odds are decimal.\n",
    "odds = ['B365', 'BW', 'IW', 'VC', 'WH']\n",
    "\n",
    "home_odds = [i + 'H' for i in odds]\n",
    "draw_odds = [i + 'D' for i in odds]\n",
    "away_odds = [i + 'A' for i in odds]"
   ]
  },
  {
   "cell_type": "code",
   "execution_count": 378,
   "id": "5e7e545c-9770-42d7-addb-a9913c195813",
   "metadata": {},
   "outputs": [],
   "source": [
    "#Imput NA with mean across rows\n",
    "master_df[home_odds] = master_df[home_odds].apply(lambda row: row.fillna(row.mean()), axis=1)\n",
    "master_df[draw_odds] = master_df[draw_odds].apply(lambda row: row.fillna(row.mean()), axis=1)\n",
    "master_df[away_odds] = master_df[away_odds].apply(lambda row: row.fillna(row.mean()), axis=1)"
   ]
  },
  {
   "cell_type": "code",
   "execution_count": 379,
   "id": "0532f1bc-ec15-49f8-92c9-7d55d8d070af",
   "metadata": {},
   "outputs": [],
   "source": [
    "master_df['home_prob'] = 1/master_df[home_odds].mean(axis=1)\n",
    "master_df['draw_prob'] = 1/master_df[draw_odds].mean(axis=1)\n",
    "master_df['away_prob'] = 1/master_df[away_odds].mean(axis=1)"
   ]
  },
  {
   "cell_type": "markdown",
   "id": "91237bb4-ff2a-444d-8c05-f233701118ce",
   "metadata": {},
   "source": [
    "### Adding fixtures for 2025/26"
   ]
  },
  {
   "cell_type": "code",
   "execution_count": 380,
   "id": "3ab881dc-b74f-4ce3-922b-63bf26f83d98",
   "metadata": {},
   "outputs": [],
   "source": [
    "fixtures = pd.read_csv('../data/fixtures.csv')"
   ]
  },
  {
   "cell_type": "code",
   "execution_count": 381,
   "id": "75ccb499-f9ea-42cf-8d63-a6171d352458",
   "metadata": {},
   "outputs": [],
   "source": [
    "fixtures['Date'] = pd.to_datetime(fixtures['Date'])\n",
    "fixtures['season'] = '2025-26'"
   ]
  },
  {
   "cell_type": "code",
   "execution_count": 382,
   "id": "70f06272-e501-4715-8e85-f86bb53bea00",
   "metadata": {},
   "outputs": [],
   "source": [
    "team_map = {'Spurs': 'Tottenham',\n",
    "            'Man Utd': 'Man United'}\n",
    "\n",
    "fixture_column_map = {'Date': 'date',\n",
    "                      'Home Team': 'home_team',\n",
    "                      'Away Team': 'away_team',\n",
    "                      'Round Number': 'round_number'}\n",
    "\n",
    "fixtures['Home Team'] = fixtures['Home Team'].map(lambda x: team_map.get(x, x))\n",
    "fixtures['Away Team'] = fixtures['Away Team'].map(lambda x: team_map.get(x, x))\n",
    "\n",
    "fixtures = fixtures.rename(columns=fixture_column_map)\n",
    "fixtures = fixtures[['date', 'home_team', 'away_team', 'round_number']]\n",
    "fixtures = fixtures.loc[fixtures['round_number']==round_number]"
   ]
  },
  {
   "cell_type": "code",
   "execution_count": 383,
   "id": "2e2da800-9f73-4f64-93f3-45c1e5de3e95",
   "metadata": {},
   "outputs": [],
   "source": [
    "master_column_map = {'Date': 'date',\n",
    "                     'HomeTeam': 'home_team',\n",
    "                     'AwayTeam': 'away_team',\n",
    "                     'FTHG': 'home_goals',\n",
    "                     'FTAG': 'away_goals',\n",
    "                     'FTR': 'result',\n",
    "                     'home_prob': 'home_prob',\n",
    "                     'draw_prob': 'draw_prob',\n",
    "                     'away_prob': 'away_prob',\n",
    "                     'season': 'season'}"
   ]
  },
  {
   "cell_type": "code",
   "execution_count": 384,
   "id": "e56e888f-e942-4ca3-8ad5-f8fc337e7df6",
   "metadata": {},
   "outputs": [],
   "source": [
    "master_df = master_df.rename(columns=master_column_map)\n",
    "master_df = master_df[list(master_column_map.values())]\n",
    "master_df = master_df.assign(round_number=0)"
   ]
  },
  {
   "cell_type": "code",
   "execution_count": 385,
   "id": "584475c5-41ad-462e-81bc-c4f2bf7cc187",
   "metadata": {},
   "outputs": [],
   "source": [
    "master_df = pd.concat([master_df, fixtures])"
   ]
  },
  {
   "cell_type": "markdown",
   "id": "f202f5ee-2d90-4ff5-a547-b2d65d815019",
   "metadata": {},
   "source": [
    "## 2 - Encoding Teams"
   ]
  },
  {
   "cell_type": "code",
   "execution_count": 386,
   "id": "c0f93de6-93d6-4169-b419-96b22aa46716",
   "metadata": {},
   "outputs": [],
   "source": [
    "encoder = OneHotEncoder(sparse_output=False, handle_unknown='ignore')\n",
    "\n",
    "encoded = encoder.fit_transform(master_df[['home_team', 'away_team']])\n",
    "\n",
    "feature_names = encoder.get_feature_names_out(['home_team', 'away_team'])\n",
    "\n",
    "encoded_df = pd.DataFrame(encoded, columns=feature_names)\n",
    "\n",
    "master_df = pd.concat([master_df.reset_index(drop=True), encoded_df.reset_index(drop=True)], axis=1)"
   ]
  },
  {
   "cell_type": "markdown",
   "id": "801dd1fb-0db1-4eb9-8155-bc83a6fd7ce4",
   "metadata": {},
   "source": [
    "## 3 - Adding Features"
   ]
  },
  {
   "cell_type": "markdown",
   "id": "376105d8-a050-4807-a734-82ae11932f7d",
   "metadata": {},
   "source": [
    "### Rolling features"
   ]
  },
  {
   "cell_type": "code",
   "execution_count": 387,
   "id": "e2ec8057-1cc0-4cb6-8997-ba3f0f9f2fb5",
   "metadata": {},
   "outputs": [],
   "source": [
    "window_len = 3\n",
    "\n",
    "# Home points and Away points\n",
    "points_map_home = {\"H\": 3, \"D\": 1, \"A\": 0}\n",
    "points_map_away = {\"H\": 0, \"D\": 1, \"A\": 3}\n",
    "master_df[\"home_points\"] = master_df[\"result\"].map(points_map_home)\n",
    "master_df[\"away_points\"] = master_df[\"result\"].map(points_map_away)\n",
    "\n",
    "# Rolling average home and away goals\n",
    "master_df[f'avg_home_goals_last_{window_len}'] = master_df.groupby('home_team')['home_goals'].transform(lambda x: x.shift().rolling(window_len, min_periods=1).mean())\n",
    "master_df[f'avg_away_goals_last_{window_len}'] = master_df.groupby('away_team')['away_goals'].transform(lambda x: x.shift().rolling(window_len, min_periods=1).mean())\n",
    "\n",
    "# olling average home and away points per game\n",
    "master_df[f'home_ppg_last_{window_len}'] = master_df.groupby('home_team')['home_points'].transform(lambda x: x.shift().rolling(window_len, min_periods=1).mean())\n",
    "master_df[f'away_ppg_last_{window_len}'] = master_df.groupby('away_team')['away_points'].transform(lambda x: x.shift().rolling(window_len, min_periods=1).mean())"
   ]
  },
  {
   "cell_type": "markdown",
   "id": "f5f109fa-7d28-43ed-a490-aa9ab3b77e2a",
   "metadata": {},
   "source": [
    "### Elo rating"
   ]
  },
  {
   "cell_type": "code",
   "execution_count": 388,
   "id": "2931ff89-4c7b-4eed-9cd5-2138608e94a1",
   "metadata": {},
   "outputs": [],
   "source": [
    "elo_ratings, elo_df = utils.calculate_elo(master_df)\n",
    "master_df = master_df.merge(elo_df[[\"date\", \"home_team\", \"away_team\", \"home_elo_before\", \"away_elo_before\", \"home_elo_after\", \"away_elo_after\"]], on=[\"date\", \"home_team\", \"away_team\"])"
   ]
  },
  {
   "cell_type": "code",
   "execution_count": 389,
   "id": "70ec741a-2495-4d6e-af7b-fec49c401888",
   "metadata": {},
   "outputs": [],
   "source": [
    "master_df['date'] = pd.to_datetime(master_df['date'])"
   ]
  },
  {
   "cell_type": "markdown",
   "id": "47f095ff-21f6-4b32-a500-1ffbe1c736d6",
   "metadata": {},
   "source": [
    "### Add rest days"
   ]
  },
  {
   "cell_type": "code",
   "execution_count": 390,
   "id": "a4fd6608-c213-4271-9228-9435339e9818",
   "metadata": {},
   "outputs": [],
   "source": [
    "master_df = utils.add_rest_days(master_df)"
   ]
  },
  {
   "cell_type": "markdown",
   "id": "4044253b-a80f-4232-9a61-0d0029c7c44a",
   "metadata": {},
   "source": [
    "## 5- Prepare Training Dataset"
   ]
  },
  {
   "cell_type": "code",
   "execution_count": 391,
   "id": "d359cd11-8037-4afd-9469-527d02055f2a",
   "metadata": {},
   "outputs": [],
   "source": [
    "team_list = master_df['home_team'].unique().tolist()\n",
    "home_team_cols = ['home_team_' + team for team in team_list]\n",
    "away_team_cols = ['away_team_' + team for team in team_list]"
   ]
  },
  {
   "cell_type": "code",
   "execution_count": 392,
   "id": "c6877dc2-5557-4089-9727-cf02f66a1922",
   "metadata": {},
   "outputs": [],
   "source": [
    "feat_cols = [f'avg_home_goals_last_{window_len}', f'avg_away_goals_last_{window_len}',\n",
    "             f'home_ppg_last_{window_len}', f'away_ppg_last_{window_len}',\n",
    "             'home_elo_before', 'away_elo_before',\n",
    "             'days_rest_home_team', 'days_rest_away_team',\n",
    "             'date', 'result',\n",
    "             'home_prob', 'draw_prob',\n",
    "             'away_prob', 'round_number'] + home_team_cols + away_team_cols\n",
    "\n",
    "feature_df = master_df[feat_cols]"
   ]
  },
  {
   "cell_type": "code",
   "execution_count": 393,
   "id": "5157aed5-bd17-466c-9212-4a66bfbeb54d",
   "metadata": {},
   "outputs": [],
   "source": [
    "train_test_data = feature_df.loc[feature_df['round_number'] != round_number].dropna()\n",
    "\n",
    "predict_data = master_df.loc[master_df['round_number'] == round_number]\n",
    "predict_data = predict_data[[f'avg_home_goals_last_{window_len}', f'avg_away_goals_last_{window_len}',\n",
    "                             f'home_ppg_last_{window_len}', f'away_ppg_last_{window_len}',\n",
    "                             'home_elo_before', 'away_elo_before',\n",
    "                             'days_rest_home_team', 'days_rest_away_team',\n",
    "                             'home_prob', 'draw_prob', \n",
    "                             'away_prob'] + home_team_cols + away_team_cols].reset_index(drop=True)"
   ]
  },
  {
   "cell_type": "code",
   "execution_count": 394,
   "id": "5b37f8f3-7950-4c2e-b3df-eeb37ac56960",
   "metadata": {},
   "outputs": [],
   "source": [
    "# Time based split for improved accuracy\n",
    "split_date = pd.to_datetime('31-07-2024')\n",
    "\n",
    "x_train = train_test_data[train_test_data['date'] < split_date].drop(['date', 'result', 'round_number'], axis=1).reset_index(drop=True)\n",
    "y_train = train_test_data[train_test_data['date'] < split_date].reset_index(drop=True)\n",
    "x_test  = train_test_data[train_test_data['date'] >= split_date].drop(['date', 'result', 'round_number'], axis=1).reset_index(drop=True)\n",
    "y_test  = train_test_data[train_test_data['date'] >= split_date].reset_index(drop=True)\n",
    "\n",
    "y_train = y_train[['result']]\n",
    "y_test = y_test[['result']]"
   ]
  },
  {
   "cell_type": "markdown",
   "id": "f8cf66b7-f8b2-4b24-8e4e-52c80cd4e874",
   "metadata": {},
   "source": [
    "## 6- Train Dataset"
   ]
  },
  {
   "cell_type": "markdown",
   "id": "a8b322f5-dc86-4506-a466-0c3c8e1037a0",
   "metadata": {},
   "source": [
    "### Hyperparameter tuning"
   ]
  },
  {
   "cell_type": "code",
   "execution_count": 395,
   "id": "c0cbb9ad-37a0-4e68-80bb-d4417d63a035",
   "metadata": {
    "scrolled": true
   },
   "outputs": [],
   "source": [
    "param_grid = {'n_estimators': [100, 200, 300],  \n",
    "              'max_depth': [None, 10, 20, 30],\n",
    "              'min_samples_split': [2, 5, 10],\n",
    "              'min_samples_leaf': [1, 2, 5],           \n",
    "              'max_features': ['sqrt', 'log2']}        \n",
    "\n",
    "# rf = RandomForestClassifier(random_state=42, class_weight='balanced')\n",
    "# tscv = TimeSeriesSplit(n_splits=10)\n",
    "\n",
    "# grid_search = GridSearchCV(estimator=rf,\n",
    "#                            param_grid=param_grid,\n",
    "#                            cv=tscv,                 \n",
    "#                            scoring='accuracy',    \n",
    "#                            n_jobs=1,             \n",
    "#                            verbose=2)\n",
    "\n",
    "# Fit\n",
    "#grid_search.fit(x_train, y_train)"
   ]
  },
  {
   "cell_type": "code",
   "execution_count": 396,
   "id": "d2b8ce4c-92bd-48ae-acb5-4cb05647cf17",
   "metadata": {},
   "outputs": [
    {
     "name": "stdout",
     "output_type": "stream",
     "text": [
      "Best params: {'max_depth': 30, 'max_features': 'sqrt', 'min_samples_leaf': 2, 'min_samples_split': 5, 'n_estimators': 300}\n",
      "Best score: 0.543014705882353\n"
     ]
    }
   ],
   "source": [
    "# Best parameters\n",
    "print(\"Best params:\", grid_search.best_params_)\n",
    "print(\"Best score:\", grid_search.best_score_)"
   ]
  },
  {
   "cell_type": "markdown",
   "id": "e15cb657-7d90-4703-a72d-7f82e8613f1e",
   "metadata": {},
   "source": [
    "### Fit model using tuned parameters"
   ]
  },
  {
   "cell_type": "code",
   "execution_count": 397,
   "id": "270adcc1-d58b-4b27-9ffd-0672cdd53b99",
   "metadata": {},
   "outputs": [
    {
     "name": "stdout",
     "output_type": "stream",
     "text": [
      "RF Log Loss: 0.974\n",
      "RF Accuracy: 0.5407\n"
     ]
    }
   ],
   "source": [
    "best_params = grid_search.best_params_ \n",
    "\n",
    "#Best params: {'max_depth': 30, 'max_features': 'sqrt', 'min_samples_leaf': 2, 'min_samples_split': 5, 'n_estimators': 300}\n",
    "\n",
    "rf = RandomForestClassifier(max_depth=30,\n",
    "                            max_features='sqrt',\n",
    "                            min_samples_leaf=2,\n",
    "                            min_samples_split=5,\n",
    "                            n_estimators=300,\n",
    "                            random_state=42)\n",
    "\n",
    "rf.fit(x_train, y_train)\n",
    "\n",
    "print(\"RF Log Loss:\", round(log_loss(y_test, rf.predict_proba(x_test)),4))\n",
    "print(\"RF Accuracy:\", round(accuracy_score(y_test, rf.predict(x_test)),4))"
   ]
  },
  {
   "cell_type": "markdown",
   "id": "434bb171-7d39-467f-bc7a-25886c170896",
   "metadata": {},
   "source": [
    "### Diagnosis - Feature importance"
   ]
  },
  {
   "cell_type": "code",
   "execution_count": 398,
   "id": "74ce3a50-4864-433e-8ec3-3f09de0d2bf9",
   "metadata": {},
   "outputs": [
    {
     "name": "stdout",
     "output_type": "stream",
     "text": [
      "                  Feature  Importance\n",
      "8               home_prob    0.132040\n",
      "10              away_prob    0.131674\n",
      "4         home_elo_before    0.094164\n",
      "5         away_elo_before    0.092257\n",
      "9               draw_prob    0.087903\n",
      "0   avg_home_goals_last_3    0.049742\n",
      "2         home_ppg_last_3    0.044452\n",
      "1   avg_away_goals_last_3    0.044301\n",
      "6     days_rest_home_team    0.042024\n",
      "3         away_ppg_last_3    0.041271\n",
      "7     days_rest_away_team    0.040406\n"
     ]
    }
   ],
   "source": [
    "importances = rf.feature_importances_\n",
    "\n",
    "feature_names = x_train.columns\n",
    "\n",
    "feat_imp = pd.DataFrame({\n",
    "    \"Feature\": feature_names,\n",
    "    \"Importance\": importances\n",
    "}).sort_values(by=\"Importance\", ascending=False)\n",
    "\n",
    "print(feat_imp.head(11))"
   ]
  },
  {
   "cell_type": "markdown",
   "id": "cfd6b329-8e94-4af1-b7ad-bd025a257dde",
   "metadata": {},
   "source": [
    "## 7 - Predict this weeks results"
   ]
  },
  {
   "cell_type": "markdown",
   "id": "93001eef-65de-46c1-bb6e-0626401198d7",
   "metadata": {},
   "source": [
    "### Add this week's odds"
   ]
  },
  {
   "cell_type": "code",
   "execution_count": 444,
   "id": "5cd0bf69-d1da-4426-9613-2d2b2563c04c",
   "metadata": {},
   "outputs": [],
   "source": [
    "#Due to lack of free downloadable odds adding in manually. Odds are fractional\n",
    "predict_data.loc[0, ['home_odds', 'draw_odds', 'away_odds']] = [10/21, 39/10, 6/1]\n",
    "predict_data.loc[1, ['home_odds', 'draw_odds', 'away_odds']] = [6/4, 13/5, 112/100]\n",
    "predict_data.loc[2, ['home_odds', 'draw_odds', 'away_odds']] = [63/50, 27/10, 205/100]\n",
    "predict_data.loc[3, ['home_odds', 'draw_odds', 'away_odds']] = [49/20, 49/20, 6/5]\n",
    "predict_data.loc[4, ['home_odds', 'draw_odds', 'away_odds']] = [41/20, 5/2, 29/20]\n",
    "predict_data.loc[5, ['home_odds', 'draw_odds', 'away_odds']] = [17/10, 11/5, 182/100]\n",
    "predict_data.loc[6, ['home_odds', 'draw_odds', 'away_odds']] = [37/20, 14/5, 148/100]\n",
    "predict_data.loc[7, ['home_odds', 'draw_odds', 'away_odds']] = [21/20, 5/2, 3/1]\n",
    "predict_data.loc[8, ['home_odds', 'draw_odds', 'away_odds']] = [13/5, 5/2, 3/1]\n",
    "predict_data.loc[9, ['home_odds', 'draw_odds', 'away_odds']] = [19/20, 14/5, 3/1]\n",
    "\n",
    "predict_data['home_prob'] = 1/(predict_data['home_odds']+1)\n",
    "predict_data['draw_prob'] = 1/(predict_data['draw_odds']+1)\n",
    "predict_data['away_prob'] = 1/(predict_data['away_odds']+1)\n",
    "predict_data.drop(['home_odds', 'draw_odds', 'away_odds'], axis=1, inplace=True)"
   ]
  },
  {
   "cell_type": "code",
   "execution_count": 445,
   "id": "d52b50a5-e915-4a50-83cc-78a01027626c",
   "metadata": {},
   "outputs": [],
   "source": [
    "fixtures_this_week = fixtures.loc[fixtures['round_number']==round_number]\n",
    "fixtures_this_week = fixtures_this_week[['home_team', 'away_team']].reset_index(drop=True)\n",
    "fixtures_this_week['prediction'] = rf.predict(predict_data)"
   ]
  },
  {
   "cell_type": "code",
   "execution_count": 446,
   "id": "7849c55e-b0c8-42df-8f55-6b56ca04da2e",
   "metadata": {},
   "outputs": [],
   "source": [
    "probabilities = pd.DataFrame(rf.predict_proba(predict_data), columns=['away_prob', 'draw_prob', 'home_prob'])\n",
    "probabilities = probabilities.round(2)\n",
    "fixtures_this_week = pd.concat([fixtures_this_week, probabilities], axis=1)\n",
    "fixtures_this_week = fixtures_this_week[['home_team', 'away_team', 'prediction', 'home_prob', 'draw_prob', 'away_prob']]"
   ]
  },
  {
   "cell_type": "code",
   "execution_count": 447,
   "id": "24d5be37-5b81-4380-81e9-f22e0a2bf1d6",
   "metadata": {},
   "outputs": [
    {
     "data": {
      "text/html": [
       "<div>\n",
       "<style scoped>\n",
       "    .dataframe tbody tr th:only-of-type {\n",
       "        vertical-align: middle;\n",
       "    }\n",
       "\n",
       "    .dataframe tbody tr th {\n",
       "        vertical-align: top;\n",
       "    }\n",
       "\n",
       "    .dataframe thead th {\n",
       "        text-align: right;\n",
       "    }\n",
       "</style>\n",
       "<table border=\"1\" class=\"dataframe\">\n",
       "  <thead>\n",
       "    <tr style=\"text-align: right;\">\n",
       "      <th></th>\n",
       "      <th>home_team</th>\n",
       "      <th>away_team</th>\n",
       "      <th>prediction</th>\n",
       "      <th>home_prob</th>\n",
       "      <th>draw_prob</th>\n",
       "      <th>away_prob</th>\n",
       "    </tr>\n",
       "  </thead>\n",
       "  <tbody>\n",
       "    <tr>\n",
       "      <th>0</th>\n",
       "      <td>Liverpool</td>\n",
       "      <td>Everton</td>\n",
       "      <td>H</td>\n",
       "      <td>0.75</td>\n",
       "      <td>0.18</td>\n",
       "      <td>0.08</td>\n",
       "    </tr>\n",
       "    <tr>\n",
       "      <th>1</th>\n",
       "      <td>Bournemouth</td>\n",
       "      <td>Newcastle</td>\n",
       "      <td>H</td>\n",
       "      <td>0.37</td>\n",
       "      <td>0.29</td>\n",
       "      <td>0.35</td>\n",
       "    </tr>\n",
       "    <tr>\n",
       "      <th>2</th>\n",
       "      <td>Brighton</td>\n",
       "      <td>Tottenham</td>\n",
       "      <td>H</td>\n",
       "      <td>0.39</td>\n",
       "      <td>0.24</td>\n",
       "      <td>0.37</td>\n",
       "    </tr>\n",
       "    <tr>\n",
       "      <th>3</th>\n",
       "      <td>Burnley</td>\n",
       "      <td>Nott'm Forest</td>\n",
       "      <td>A</td>\n",
       "      <td>0.30</td>\n",
       "      <td>0.21</td>\n",
       "      <td>0.49</td>\n",
       "    </tr>\n",
       "    <tr>\n",
       "      <th>4</th>\n",
       "      <td>West Ham</td>\n",
       "      <td>Crystal Palace</td>\n",
       "      <td>A</td>\n",
       "      <td>0.33</td>\n",
       "      <td>0.31</td>\n",
       "      <td>0.36</td>\n",
       "    </tr>\n",
       "    <tr>\n",
       "      <th>5</th>\n",
       "      <td>Wolves</td>\n",
       "      <td>Leeds</td>\n",
       "      <td>D</td>\n",
       "      <td>0.34</td>\n",
       "      <td>0.39</td>\n",
       "      <td>0.26</td>\n",
       "    </tr>\n",
       "    <tr>\n",
       "      <th>6</th>\n",
       "      <td>Man United</td>\n",
       "      <td>Chelsea</td>\n",
       "      <td>D</td>\n",
       "      <td>0.32</td>\n",
       "      <td>0.34</td>\n",
       "      <td>0.33</td>\n",
       "    </tr>\n",
       "    <tr>\n",
       "      <th>7</th>\n",
       "      <td>Fulham</td>\n",
       "      <td>Brentford</td>\n",
       "      <td>H</td>\n",
       "      <td>0.53</td>\n",
       "      <td>0.19</td>\n",
       "      <td>0.29</td>\n",
       "    </tr>\n",
       "    <tr>\n",
       "      <th>8</th>\n",
       "      <td>Sunderland</td>\n",
       "      <td>Aston Villa</td>\n",
       "      <td>H</td>\n",
       "      <td>0.39</td>\n",
       "      <td>0.25</td>\n",
       "      <td>0.36</td>\n",
       "    </tr>\n",
       "    <tr>\n",
       "      <th>9</th>\n",
       "      <td>Arsenal</td>\n",
       "      <td>Man City</td>\n",
       "      <td>H</td>\n",
       "      <td>0.49</td>\n",
       "      <td>0.25</td>\n",
       "      <td>0.27</td>\n",
       "    </tr>\n",
       "  </tbody>\n",
       "</table>\n",
       "</div>"
      ],
      "text/plain": [
       "     home_team       away_team prediction  home_prob  draw_prob  away_prob\n",
       "0    Liverpool         Everton          H       0.75       0.18       0.08\n",
       "1  Bournemouth       Newcastle          H       0.37       0.29       0.35\n",
       "2     Brighton       Tottenham          H       0.39       0.24       0.37\n",
       "3      Burnley   Nott'm Forest          A       0.30       0.21       0.49\n",
       "4     West Ham  Crystal Palace          A       0.33       0.31       0.36\n",
       "5       Wolves           Leeds          D       0.34       0.39       0.26\n",
       "6   Man United         Chelsea          D       0.32       0.34       0.33\n",
       "7       Fulham       Brentford          H       0.53       0.19       0.29\n",
       "8   Sunderland     Aston Villa          H       0.39       0.25       0.36\n",
       "9      Arsenal        Man City          H       0.49       0.25       0.27"
      ]
     },
     "execution_count": 447,
     "metadata": {},
     "output_type": "execute_result"
    }
   ],
   "source": [
    "fixtures_this_week"
   ]
  },
  {
   "cell_type": "code",
   "execution_count": null,
   "id": "a3e98215-dc13-4112-b702-d42bda4f2710",
   "metadata": {},
   "outputs": [],
   "source": []
  }
 ],
 "metadata": {
  "kernelspec": {
   "display_name": "Python Rowan",
   "language": "python",
   "name": "rowan-env"
  },
  "language_info": {
   "codemirror_mode": {
    "name": "ipython",
    "version": 3
   },
   "file_extension": ".py",
   "mimetype": "text/x-python",
   "name": "python",
   "nbconvert_exporter": "python",
   "pygments_lexer": "ipython3",
   "version": "3.13.7"
  }
 },
 "nbformat": 4,
 "nbformat_minor": 5
}
